{
 "cells": [
  {
   "cell_type": "code",
   "execution_count": 21,
   "metadata": {},
   "outputs": [
    {
     "data": {
      "text/plain": [
       "'C:\\\\Users\\\\acara\\\\Bootcamp\\\\cu-nyc-virt-fin-pt-03-2021-u-c\\\\python-homework\\\\Pybank'"
      ]
     },
     "execution_count": 21,
     "metadata": {},
     "output_type": "execute_result"
    }
   ],
   "source": [
    "import os\n",
    "os.getcwd()"
   ]
  },
  {
   "cell_type": "code",
   "execution_count": 88,
   "metadata": {},
   "outputs": [],
   "source": [
    "from pathlib import Path\n",
    "import csv\n",
    "budget_csv = Path(\"budget_data.csv\")\n",
    "\n",
    "# Variables\n",
    "total_months = 86\n",
    "pnl = []\n",
    "months = []\n",
    "total_profit = 0\n",
    "difference = 0\n",
    "total_difference = 0\n",
    "monthly_changes = []\n"
   ]
  },
  {
   "cell_type": "code",
   "execution_count": 89,
   "metadata": {},
   "outputs": [],
   "source": [
    "with open(budget_csv, newline ='') as csvfile:\n",
    "    csvreader = csv.reader(csvfile, delimiter = ',')\n",
    "    header = next(csvreader)\n",
    "    for row in csvreader:\n",
    "        months.append(row[0])\n",
    "        pnl.append(row[1])\n",
    "        total_profit = total_profit + int(row[1])\n",
    "        final_profit = int(row[1])\n",
    "        monthly_change_profits = final_profit - total_profit\n",
    "\n",
    "\n",
    "        monthly_changes.append(monthly_change_profits)\n",
    "\n",
    "        total_difference = total_difference + monthly_change_profits\n",
    "        initial_profit = final_profit\n",
    "\n",
    "\n",
    "        average_change_profits = (total_difference/total_profit)\n",
    "      \n",
    "      \n",
    "        greatest_increase_profits = max(monthly_changes)\n",
    "        greatest_decrease_profits = min(monthly_changes)\n",
    "\n",
    "        increase_date = months[monthly_changes.index(greatest_increase_profits)]\n",
    "        decrease_date = months[monthly_changes.index(greatest_decrease_profits)]\n",
    "      \n",
    "      \n",
    "       "
   ]
  },
  {
   "cell_type": "code",
   "execution_count": 90,
   "metadata": {},
   "outputs": [
    {
     "name": "stdout",
     "output_type": "stream",
     "text": [
      "----------------------------------------------------------\n",
      "Financial Analysis\n",
      "----------------------------------------------------------\n",
      "Total Months: 86\n",
      "Total Profits: $38382578\n",
      "Average Change: $-43\n",
      "Greatest Increase in Profits: Jan-2010 ($0)\n",
      "Greatest Decrease in Profits: Feb-2017 ($-37711479)\n",
      "----------------------------------------------------------\n"
     ]
    }
   ],
   "source": [
    "print(\"----------------------------------------------------------\")\n",
    "print(\"Financial Analysis\")\n",
    "print(\"----------------------------------------------------------\")\n",
    "print(\"Total Months: \" + str(total_months))\n",
    "print(\"Total Profits: \" + \"$\" + str(total_profit))\n",
    "print(\"Average Change: \" + \"$\" + str(int(average_change_profits)))\n",
    "print(\"Greatest Increase in Profits: \" + str(increase_date) + \" ($\" + str(greatest_increase_profits) + \")\")\n",
    "print(\"Greatest Decrease in Profits: \" + str(decrease_date) + \" ($\" + str(greatest_decrease_profits)+ \")\")\n",
    "print(\"----------------------------------------------------------\")"
   ]
  },
  {
   "cell_type": "code",
   "execution_count": null,
   "metadata": {},
   "outputs": [],
   "source": []
  }
 ],
 "metadata": {
  "kernelspec": {
   "display_name": "Python 3",
   "language": "python",
   "name": "python3"
  },
  "language_info": {
   "codemirror_mode": {
    "name": "ipython",
    "version": 3
   },
   "file_extension": ".py",
   "mimetype": "text/x-python",
   "name": "python",
   "nbconvert_exporter": "python",
   "pygments_lexer": "ipython3",
   "version": "3.9.2"
  }
 },
 "nbformat": 4,
 "nbformat_minor": 4
}
